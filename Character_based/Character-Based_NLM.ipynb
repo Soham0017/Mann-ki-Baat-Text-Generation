{
 "cells": [
  {
   "cell_type": "code",
   "execution_count": 34,
   "id": "40becce6-319e-4511-b295-f30b4526eea9",
   "metadata": {
    "tags": []
   },
   "outputs": [],
   "source": [
    "import numpy as np\n",
    "from pickle import dump, load\n",
    "from keras.utils import to_categorical\n",
    "from keras .models import Sequential\n",
    "from keras.layers import Dense, LSTM, Input\n",
    "import tensorflow as tf\n",
    "from tensorflow.keras.preprocessing.sequence import pad_sequences"
   ]
  },
  {
   "cell_type": "markdown",
   "id": "dfa38434-cf3f-421e-9489-55f5a1fe4d66",
   "metadata": {
    "tags": []
   },
   "source": [
    "Data preparation"
   ]
  },
  {
   "cell_type": "code",
   "execution_count": 1,
   "id": "f79e9b8c-f737-4fa1-a4aa-a5c627c01d53",
   "metadata": {
    "tags": []
   },
   "outputs": [],
   "source": [
    "def load_doc(filename):\n",
    "    file = open(filename, 'r')\n",
    "    text = file.read();\n",
    "    file.close()\n",
    "    return text"
   ]
  },
  {
   "cell_type": "code",
   "execution_count": 2,
   "id": "c7e92d34-3419-4025-8f92-e7d66884c9bf",
   "metadata": {
    "tags": []
   },
   "outputs": [],
   "source": [
    "# save tokens to file, one dialog per line\n",
    "def save_doc(lines, filename):\n",
    "    data = '\\n'. join(lines)\n",
    "    file = open(filename, 'w')\n",
    "    file.write(data)\n",
    "    file.close()"
   ]
  },
  {
   "cell_type": "code",
   "execution_count": 3,
   "id": "dd2cff09-5078-43eb-9c16-7e7c1bea1dd2",
   "metadata": {
    "tags": []
   },
   "outputs": [],
   "source": [
    "raw_text = load_doc('rhyme.txt')\n",
    "tokens = raw_text.split()\n",
    "raw_text = ' '.join(tokens)"
   ]
  },
  {
   "cell_type": "code",
   "execution_count": 4,
   "id": "32e3d764-254f-44b7-b027-6c77f0246fc0",
   "metadata": {
    "tags": []
   },
   "outputs": [
    {
     "name": "stdout",
     "output_type": "stream",
     "text": [
      "Total sequences: 399\n",
      "['Sing a song', 'ing a song ', 'ng a song o', 'g a song of', ' a song of ']\n"
     ]
    }
   ],
   "source": [
    "# organize into sequences of characters\n",
    "length = 10\n",
    "sequences = list()\n",
    "for i  in range(length, len(raw_text)):\n",
    "    seq = raw_text[i-length : i+1]\n",
    "    sequences.append(seq)\n",
    "print(f\"Total sequences: {len(sequences)}\")\n",
    "\n",
    "out_filename = 'char_sequences.txt'\n",
    "save_doc(sequences, out_filename)\n",
    "print(sequences[:5])"
   ]
  },
  {
   "cell_type": "markdown",
   "id": "6968b7e3-05a7-4eb1-8a33-110ad9ed2ce1",
   "metadata": {},
   "source": [
    "Train Language Model"
   ]
  },
  {
   "cell_type": "code",
   "execution_count": 22,
   "id": "47674702-edf4-4276-bf89-0a301c980aba",
   "metadata": {
    "tags": []
   },
   "outputs": [],
   "source": [
    "def define_model(x, vocab_size):\n",
    "    model = Sequential()\n",
    "    model.add(Input(shape = (x.shape[1], x.shape[2])))\n",
    "    model.add(LSTM(75))\n",
    "    model.add(Dense(vocab_size, activation = 'softmax'))\n",
    "    model.compile(loss='categorical_crossentropy', optimizer='adam', metrics=['accuracy'])\n",
    "    model.summary()\n",
    "    return model"
   ]
  },
  {
   "cell_type": "code",
   "execution_count": 23,
   "id": "30b354cf-13f2-4f02-9c4e-68fd4ab2f42f",
   "metadata": {
    "tags": []
   },
   "outputs": [],
   "source": [
    "in_filename = 'char_sequences.txt'\n",
    "raw_text = load_doc(in_filename)\n",
    "lines = raw_text.split('\\n')"
   ]
  },
  {
   "cell_type": "code",
   "execution_count": 6,
   "id": "38c5471a-7aa1-4cf0-ba93-34bada71f41a",
   "metadata": {
    "tags": []
   },
   "outputs": [
    {
     "name": "stdout",
     "output_type": "stream",
     "text": [
      "{'\\n': 0, ' ': 1, \"'\": 2, ',': 3, '.': 4, ';': 5, 'A': 6, 'B': 7, 'C': 8, 'E': 9, 'F': 10, 'H': 11, 'S': 12, 'T': 13, 'W': 14, 'a': 15, 'b': 16, 'c': 17, 'd': 18, 'e': 19, 'f': 20, 'g': 21, 'h': 22, 'i': 23, 'k': 24, 'l': 25, 'm': 26, 'n': 27, 'o': 28, 'p': 29, 'q': 30, 'r': 31, 's': 32, 't': 33, 'u': 34, 'w': 35, 'x': 36, 'y': 37}\n"
     ]
    }
   ],
   "source": [
    "# encode sequences\n",
    "chars = sorted(list(set(raw_text)))\n",
    "mapping = dict((c, i) for i, c in enumerate(chars))\n",
    "vocab_size = len(mapping)\n",
    "print(mapping)"
   ]
  },
  {
   "cell_type": "code",
   "execution_count": 7,
   "id": "7c3a0e9f-ae46-41aa-863c-a8236d0b3e19",
   "metadata": {
    "tags": []
   },
   "outputs": [
    {
     "name": "stdout",
     "output_type": "stream",
     "text": [
      "Total sequences: 399\n"
     ]
    }
   ],
   "source": [
    "sequences = list()\n",
    "for line in lines:\n",
    "    encoded_seq = [mapping[char] for char in line]\n",
    "    sequences.append(encoded_seq)\n",
    "print(f\"Total sequences: {len(sequences)}\")"
   ]
  },
  {
   "cell_type": "code",
   "execution_count": 9,
   "id": "5000a3fb-2184-4885-99e5-8fd0dce2560a",
   "metadata": {
    "tags": []
   },
   "outputs": [],
   "source": [
    "# separate into input and output\n",
    "sequences = np.array(sequences)\n",
    "X, Y = sequences[:, :-1], sequences[:, -1]\n",
    "sequences = [to_categorical(x, num_classes = vocab_size) for x in X]\n",
    "X = np.array(sequences)\n",
    "Y = to_categorical(Y, num_classes = vocab_size)"
   ]
  },
  {
   "cell_type": "code",
   "execution_count": 18,
   "id": "9ca2eabe-919a-4612-99f1-5f1eb3345e7f",
   "metadata": {
    "tags": []
   },
   "outputs": [
    {
     "name": "stdout",
     "output_type": "stream",
     "text": [
      "(399, 10, 38)\n",
      "(399, 38)\n"
     ]
    }
   ],
   "source": [
    "print(X.shape)\n",
    "print(Y.shape)"
   ]
  },
  {
   "cell_type": "code",
   "execution_count": 72,
   "id": "480b83c8-74de-4eba-a833-16950fd62da4",
   "metadata": {
    "tags": []
   },
   "outputs": [
    {
     "data": {
      "text/html": [
       "<pre style=\"white-space:pre;overflow-x:auto;line-height:normal;font-family:Menlo,'DejaVu Sans Mono',consolas,'Courier New',monospace\"><span style=\"font-weight: bold\">Model: \"sequential_2\"</span>\n",
       "</pre>\n"
      ],
      "text/plain": [
       "\u001b[1mModel: \"sequential_2\"\u001b[0m\n"
      ]
     },
     "metadata": {},
     "output_type": "display_data"
    },
    {
     "data": {
      "text/html": [
       "<pre style=\"white-space:pre;overflow-x:auto;line-height:normal;font-family:Menlo,'DejaVu Sans Mono',consolas,'Courier New',monospace\">┏━━━━━━━━━━━━━━━━━━━━━━━━━━━━━━━━━━━━━━┳━━━━━━━━━━━━━━━━━━━━━━━━━━━━━┳━━━━━━━━━━━━━━━━━┓\n",
       "┃<span style=\"font-weight: bold\"> Layer (type)                         </span>┃<span style=\"font-weight: bold\"> Output Shape                </span>┃<span style=\"font-weight: bold\">         Param # </span>┃\n",
       "┡━━━━━━━━━━━━━━━━━━━━━━━━━━━━━━━━━━━━━━╇━━━━━━━━━━━━━━━━━━━━━━━━━━━━━╇━━━━━━━━━━━━━━━━━┩\n",
       "│ lstm_2 (<span style=\"color: #0087ff; text-decoration-color: #0087ff\">LSTM</span>)                        │ (<span style=\"color: #00d7ff; text-decoration-color: #00d7ff\">None</span>, <span style=\"color: #00af00; text-decoration-color: #00af00\">75</span>)                  │          <span style=\"color: #00af00; text-decoration-color: #00af00\">34,200</span> │\n",
       "├──────────────────────────────────────┼─────────────────────────────┼─────────────────┤\n",
       "│ dense_2 (<span style=\"color: #0087ff; text-decoration-color: #0087ff\">Dense</span>)                      │ (<span style=\"color: #00d7ff; text-decoration-color: #00d7ff\">None</span>, <span style=\"color: #00af00; text-decoration-color: #00af00\">38</span>)                  │           <span style=\"color: #00af00; text-decoration-color: #00af00\">2,888</span> │\n",
       "└──────────────────────────────────────┴─────────────────────────────┴─────────────────┘\n",
       "</pre>\n"
      ],
      "text/plain": [
       "┏━━━━━━━━━━━━━━━━━━━━━━━━━━━━━━━━━━━━━━┳━━━━━━━━━━━━━━━━━━━━━━━━━━━━━┳━━━━━━━━━━━━━━━━━┓\n",
       "┃\u001b[1m \u001b[0m\u001b[1mLayer (type)                        \u001b[0m\u001b[1m \u001b[0m┃\u001b[1m \u001b[0m\u001b[1mOutput Shape               \u001b[0m\u001b[1m \u001b[0m┃\u001b[1m \u001b[0m\u001b[1m        Param #\u001b[0m\u001b[1m \u001b[0m┃\n",
       "┡━━━━━━━━━━━━━━━━━━━━━━━━━━━━━━━━━━━━━━╇━━━━━━━━━━━━━━━━━━━━━━━━━━━━━╇━━━━━━━━━━━━━━━━━┩\n",
       "│ lstm_2 (\u001b[38;5;33mLSTM\u001b[0m)                        │ (\u001b[38;5;45mNone\u001b[0m, \u001b[38;5;34m75\u001b[0m)                  │          \u001b[38;5;34m34,200\u001b[0m │\n",
       "├──────────────────────────────────────┼─────────────────────────────┼─────────────────┤\n",
       "│ dense_2 (\u001b[38;5;33mDense\u001b[0m)                      │ (\u001b[38;5;45mNone\u001b[0m, \u001b[38;5;34m38\u001b[0m)                  │           \u001b[38;5;34m2,888\u001b[0m │\n",
       "└──────────────────────────────────────┴─────────────────────────────┴─────────────────┘\n"
      ]
     },
     "metadata": {},
     "output_type": "display_data"
    },
    {
     "data": {
      "text/html": [
       "<pre style=\"white-space:pre;overflow-x:auto;line-height:normal;font-family:Menlo,'DejaVu Sans Mono',consolas,'Courier New',monospace\"><span style=\"font-weight: bold\"> Total params: </span><span style=\"color: #00af00; text-decoration-color: #00af00\">37,088</span> (144.88 KB)\n",
       "</pre>\n"
      ],
      "text/plain": [
       "\u001b[1m Total params: \u001b[0m\u001b[38;5;34m37,088\u001b[0m (144.88 KB)\n"
      ]
     },
     "metadata": {},
     "output_type": "display_data"
    },
    {
     "data": {
      "text/html": [
       "<pre style=\"white-space:pre;overflow-x:auto;line-height:normal;font-family:Menlo,'DejaVu Sans Mono',consolas,'Courier New',monospace\"><span style=\"font-weight: bold\"> Trainable params: </span><span style=\"color: #00af00; text-decoration-color: #00af00\">37,088</span> (144.88 KB)\n",
       "</pre>\n"
      ],
      "text/plain": [
       "\u001b[1m Trainable params: \u001b[0m\u001b[38;5;34m37,088\u001b[0m (144.88 KB)\n"
      ]
     },
     "metadata": {},
     "output_type": "display_data"
    },
    {
     "data": {
      "text/html": [
       "<pre style=\"white-space:pre;overflow-x:auto;line-height:normal;font-family:Menlo,'DejaVu Sans Mono',consolas,'Courier New',monospace\"><span style=\"font-weight: bold\"> Non-trainable params: </span><span style=\"color: #00af00; text-decoration-color: #00af00\">0</span> (0.00 B)\n",
       "</pre>\n"
      ],
      "text/plain": [
       "\u001b[1m Non-trainable params: \u001b[0m\u001b[38;5;34m0\u001b[0m (0.00 B)\n"
      ]
     },
     "metadata": {},
     "output_type": "display_data"
    },
    {
     "name": "stdout",
     "output_type": "stream",
     "text": [
      "Epoch 1/100\n",
      "13/13 - 8s - 606ms/step - accuracy: 0.0677 - loss: 3.6109\n",
      "Epoch 2/100\n",
      "13/13 - 0s - 17ms/step - accuracy: 0.1604 - loss: 3.5046\n",
      "Epoch 3/100\n",
      "13/13 - 0s - 20ms/step - accuracy: 0.1905 - loss: 3.2002\n",
      "Epoch 4/100\n",
      "13/13 - 0s - 16ms/step - accuracy: 0.1905 - loss: 3.0429\n",
      "Epoch 5/100\n",
      "13/13 - 0s - 20ms/step - accuracy: 0.1905 - loss: 3.0067\n",
      "Epoch 6/100\n",
      "13/13 - 0s - 19ms/step - accuracy: 0.1905 - loss: 2.9894\n",
      "Epoch 7/100\n",
      "13/13 - 0s - 24ms/step - accuracy: 0.1905 - loss: 2.9715\n",
      "Epoch 8/100\n",
      "13/13 - 0s - 22ms/step - accuracy: 0.1905 - loss: 2.9505\n",
      "Epoch 9/100\n",
      "13/13 - 0s - 19ms/step - accuracy: 0.1905 - loss: 2.9300\n",
      "Epoch 10/100\n",
      "13/13 - 0s - 19ms/step - accuracy: 0.1905 - loss: 2.9096\n",
      "Epoch 11/100\n",
      "13/13 - 0s - 18ms/step - accuracy: 0.2030 - loss: 2.8805\n",
      "Epoch 12/100\n",
      "13/13 - 0s - 18ms/step - accuracy: 0.1955 - loss: 2.8564\n",
      "Epoch 13/100\n",
      "13/13 - 0s - 16ms/step - accuracy: 0.2080 - loss: 2.8284\n",
      "Epoch 14/100\n",
      "13/13 - 0s - 17ms/step - accuracy: 0.2306 - loss: 2.7903\n",
      "Epoch 15/100\n",
      "13/13 - 0s - 18ms/step - accuracy: 0.2180 - loss: 2.7511\n",
      "Epoch 16/100\n",
      "13/13 - 0s - 19ms/step - accuracy: 0.2406 - loss: 2.7127\n",
      "Epoch 17/100\n",
      "13/13 - 0s - 19ms/step - accuracy: 0.2456 - loss: 2.6636\n",
      "Epoch 18/100\n",
      "13/13 - 0s - 16ms/step - accuracy: 0.2556 - loss: 2.6328\n",
      "Epoch 19/100\n",
      "13/13 - 0s - 18ms/step - accuracy: 0.2682 - loss: 2.5939\n",
      "Epoch 20/100\n",
      "13/13 - 0s - 18ms/step - accuracy: 0.2857 - loss: 2.5396\n",
      "Epoch 21/100\n",
      "13/13 - 0s - 19ms/step - accuracy: 0.2832 - loss: 2.5035\n",
      "Epoch 22/100\n",
      "13/13 - 0s - 18ms/step - accuracy: 0.3233 - loss: 2.4641\n",
      "Epoch 23/100\n",
      "13/13 - 0s - 17ms/step - accuracy: 0.3283 - loss: 2.4191\n",
      "Epoch 24/100\n",
      "13/13 - 0s - 18ms/step - accuracy: 0.3333 - loss: 2.3826\n",
      "Epoch 25/100\n",
      "13/13 - 0s - 18ms/step - accuracy: 0.3559 - loss: 2.3622\n",
      "Epoch 26/100\n",
      "13/13 - 0s - 19ms/step - accuracy: 0.3659 - loss: 2.3150\n",
      "Epoch 27/100\n",
      "13/13 - 0s - 18ms/step - accuracy: 0.3709 - loss: 2.3028\n",
      "Epoch 28/100\n",
      "13/13 - 0s - 20ms/step - accuracy: 0.3709 - loss: 2.2387\n",
      "Epoch 29/100\n",
      "13/13 - 0s - 20ms/step - accuracy: 0.3534 - loss: 2.2216\n",
      "Epoch 30/100\n",
      "13/13 - 0s - 18ms/step - accuracy: 0.3734 - loss: 2.2015\n",
      "Epoch 31/100\n",
      "13/13 - 0s - 19ms/step - accuracy: 0.3935 - loss: 2.1589\n",
      "Epoch 32/100\n",
      "13/13 - 0s - 18ms/step - accuracy: 0.4010 - loss: 2.1070\n",
      "Epoch 33/100\n",
      "13/13 - 0s - 18ms/step - accuracy: 0.4411 - loss: 2.0738\n",
      "Epoch 34/100\n",
      "13/13 - 0s - 17ms/step - accuracy: 0.4361 - loss: 2.0385\n",
      "Epoch 35/100\n",
      "13/13 - 0s - 18ms/step - accuracy: 0.4787 - loss: 1.9898\n",
      "Epoch 36/100\n",
      "13/13 - 0s - 23ms/step - accuracy: 0.4737 - loss: 1.9542\n",
      "Epoch 37/100\n",
      "13/13 - 0s - 21ms/step - accuracy: 0.4887 - loss: 1.9161\n",
      "Epoch 38/100\n",
      "13/13 - 0s - 20ms/step - accuracy: 0.4812 - loss: 1.8739\n",
      "Epoch 39/100\n",
      "13/13 - 0s - 21ms/step - accuracy: 0.4737 - loss: 1.8413\n",
      "Epoch 40/100\n",
      "13/13 - 0s - 19ms/step - accuracy: 0.5113 - loss: 1.8057\n",
      "Epoch 41/100\n",
      "13/13 - 0s - 21ms/step - accuracy: 0.4912 - loss: 1.7898\n",
      "Epoch 42/100\n",
      "13/13 - 0s - 19ms/step - accuracy: 0.5439 - loss: 1.7614\n",
      "Epoch 43/100\n",
      "13/13 - 0s - 19ms/step - accuracy: 0.5238 - loss: 1.7017\n",
      "Epoch 44/100\n",
      "13/13 - 0s - 20ms/step - accuracy: 0.5639 - loss: 1.6714\n",
      "Epoch 45/100\n",
      "13/13 - 0s - 20ms/step - accuracy: 0.5238 - loss: 1.6394\n",
      "Epoch 46/100\n",
      "13/13 - 0s - 22ms/step - accuracy: 0.5564 - loss: 1.5920\n",
      "Epoch 47/100\n",
      "13/13 - 0s - 20ms/step - accuracy: 0.5714 - loss: 1.5447\n",
      "Epoch 48/100\n",
      "13/13 - 0s - 22ms/step - accuracy: 0.5815 - loss: 1.5067\n",
      "Epoch 49/100\n",
      "13/13 - 0s - 18ms/step - accuracy: 0.6216 - loss: 1.4670\n",
      "Epoch 50/100\n",
      "13/13 - 0s - 18ms/step - accuracy: 0.6266 - loss: 1.4242\n",
      "Epoch 51/100\n",
      "13/13 - 0s - 18ms/step - accuracy: 0.6366 - loss: 1.3897\n",
      "Epoch 52/100\n",
      "13/13 - 0s - 18ms/step - accuracy: 0.6241 - loss: 1.3737\n",
      "Epoch 53/100\n",
      "13/13 - 0s - 16ms/step - accuracy: 0.6642 - loss: 1.3208\n",
      "Epoch 54/100\n",
      "13/13 - 0s - 19ms/step - accuracy: 0.6566 - loss: 1.2813\n",
      "Epoch 55/100\n",
      "13/13 - 0s - 19ms/step - accuracy: 0.6642 - loss: 1.2493\n",
      "Epoch 56/100\n",
      "13/13 - 0s - 20ms/step - accuracy: 0.6992 - loss: 1.2046\n",
      "Epoch 57/100\n",
      "13/13 - 0s - 18ms/step - accuracy: 0.7168 - loss: 1.1828\n",
      "Epoch 58/100\n",
      "13/13 - 0s - 18ms/step - accuracy: 0.7118 - loss: 1.1501\n",
      "Epoch 59/100\n",
      "13/13 - 0s - 19ms/step - accuracy: 0.7419 - loss: 1.1003\n",
      "Epoch 60/100\n",
      "13/13 - 0s - 19ms/step - accuracy: 0.7544 - loss: 1.0734\n",
      "Epoch 61/100\n",
      "13/13 - 0s - 18ms/step - accuracy: 0.7669 - loss: 1.0353\n",
      "Epoch 62/100\n",
      "13/13 - 0s - 19ms/step - accuracy: 0.7619 - loss: 1.0132\n",
      "Epoch 63/100\n",
      "13/13 - 0s - 20ms/step - accuracy: 0.7820 - loss: 0.9603\n",
      "Epoch 64/100\n",
      "13/13 - 0s - 19ms/step - accuracy: 0.7970 - loss: 0.9299\n",
      "Epoch 65/100\n",
      "13/13 - 0s - 16ms/step - accuracy: 0.8095 - loss: 0.8992\n",
      "Epoch 66/100\n",
      "13/13 - 0s - 22ms/step - accuracy: 0.8346 - loss: 0.8733\n",
      "Epoch 67/100\n",
      "13/13 - 0s - 21ms/step - accuracy: 0.8596 - loss: 0.8318\n",
      "Epoch 68/100\n",
      "13/13 - 0s - 18ms/step - accuracy: 0.8622 - loss: 0.7909\n",
      "Epoch 69/100\n",
      "13/13 - 0s - 19ms/step - accuracy: 0.8672 - loss: 0.7641\n",
      "Epoch 70/100\n",
      "13/13 - 0s - 21ms/step - accuracy: 0.8947 - loss: 0.7398\n",
      "Epoch 71/100\n",
      "13/13 - 0s - 22ms/step - accuracy: 0.9123 - loss: 0.6977\n",
      "Epoch 72/100\n",
      "13/13 - 0s - 18ms/step - accuracy: 0.9048 - loss: 0.6737\n",
      "Epoch 73/100\n",
      "13/13 - 0s - 19ms/step - accuracy: 0.9173 - loss: 0.6505\n",
      "Epoch 74/100\n",
      "13/13 - 0s - 22ms/step - accuracy: 0.9223 - loss: 0.6478\n",
      "Epoch 75/100\n",
      "13/13 - 0s - 21ms/step - accuracy: 0.9499 - loss: 0.6039\n",
      "Epoch 76/100\n",
      "13/13 - 0s - 21ms/step - accuracy: 0.9474 - loss: 0.5829\n",
      "Epoch 77/100\n",
      "13/13 - 0s - 27ms/step - accuracy: 0.9474 - loss: 0.5561\n",
      "Epoch 78/100\n",
      "13/13 - 0s - 23ms/step - accuracy: 0.9624 - loss: 0.5385\n",
      "Epoch 79/100\n",
      "13/13 - 0s - 19ms/step - accuracy: 0.9524 - loss: 0.5198\n",
      "Epoch 80/100\n",
      "13/13 - 0s - 21ms/step - accuracy: 0.9549 - loss: 0.4906\n",
      "Epoch 81/100\n",
      "13/13 - 0s - 19ms/step - accuracy: 0.9649 - loss: 0.4819\n",
      "Epoch 82/100\n",
      "13/13 - 0s - 22ms/step - accuracy: 0.9624 - loss: 0.4520\n",
      "Epoch 83/100\n",
      "13/13 - 0s - 19ms/step - accuracy: 0.9674 - loss: 0.4354\n",
      "Epoch 84/100\n",
      "13/13 - 0s - 19ms/step - accuracy: 0.9699 - loss: 0.4218\n",
      "Epoch 85/100\n",
      "13/13 - 0s - 21ms/step - accuracy: 0.9699 - loss: 0.4035\n",
      "Epoch 86/100\n",
      "13/13 - 0s - 20ms/step - accuracy: 0.9749 - loss: 0.3775\n",
      "Epoch 87/100\n",
      "13/13 - 0s - 19ms/step - accuracy: 0.9875 - loss: 0.3655\n",
      "Epoch 88/100\n",
      "13/13 - 0s - 20ms/step - accuracy: 0.9774 - loss: 0.3664\n",
      "Epoch 89/100\n",
      "13/13 - 0s - 18ms/step - accuracy: 0.9850 - loss: 0.3439\n",
      "Epoch 90/100\n",
      "13/13 - 0s - 21ms/step - accuracy: 0.9875 - loss: 0.3271\n",
      "Epoch 91/100\n",
      "13/13 - 0s - 18ms/step - accuracy: 0.9799 - loss: 0.3134\n",
      "Epoch 92/100\n",
      "13/13 - 0s - 22ms/step - accuracy: 0.9850 - loss: 0.3001\n",
      "Epoch 93/100\n",
      "13/13 - 0s - 24ms/step - accuracy: 0.9825 - loss: 0.2951\n",
      "Epoch 94/100\n",
      "13/13 - 0s - 21ms/step - accuracy: 0.9925 - loss: 0.2754\n",
      "Epoch 95/100\n",
      "13/13 - 0s - 19ms/step - accuracy: 0.9900 - loss: 0.2605\n",
      "Epoch 96/100\n",
      "13/13 - 0s - 18ms/step - accuracy: 0.9875 - loss: 0.2653\n",
      "Epoch 97/100\n",
      "13/13 - 0s - 21ms/step - accuracy: 0.9925 - loss: 0.2475\n",
      "Epoch 98/100\n",
      "13/13 - 0s - 18ms/step - accuracy: 0.9900 - loss: 0.2368\n",
      "Epoch 99/100\n",
      "13/13 - 0s - 23ms/step - accuracy: 0.9900 - loss: 0.2262\n",
      "Epoch 100/100\n",
      "13/13 - 0s - 19ms/step - accuracy: 0.9900 - loss: 0.2191\n"
     ]
    },
    {
     "name": "stderr",
     "output_type": "stream",
     "text": [
      "WARNING:absl:You are saving your model as an HDF5 file via `model.save()` or `keras.saving.save_model(model)`. This file format is considered legacy. We recommend using instead the native Keras format, e.g. `model.save('my_model.keras')` or `keras.saving.save_model(model, 'my_model.keras')`. \n"
     ]
    }
   ],
   "source": [
    "model = define_model(X, vocab_size)\n",
    "model.fit(X, Y, epochs = 100, verbose = 2)\n",
    "model.save('model.h5')\n",
    "\n",
    "dump(mapping, open('mapping.pkl', 'wb'))"
   ]
  },
  {
   "cell_type": "markdown",
   "id": "f30975fe-142d-4d66-b526-692b3ca4009f",
   "metadata": {},
   "source": [
    "Generate Text"
   ]
  },
  {
   "cell_type": "code",
   "execution_count": 73,
   "id": "f7f33882-87ed-4790-92fc-d760e2c865e6",
   "metadata": {
    "tags": []
   },
   "outputs": [],
   "source": [
    "def generate_seq(model, mapping, seq_length, seed_text, n_chars):\n",
    "    in_text = seed_text\n",
    "    for _ in range(n_chars):\n",
    "        # encode the characters as integers\n",
    "        encoded = [mapping[char] for char in in_text]\n",
    "        encoded = pad_sequences([encoded], maxlen=seq_length, truncating='pre')\n",
    "        # one hot encode\n",
    "        encoded = to_categorical(encoded, num_classes = len(mapping))\n",
    "        encoded  = encoded.reshape(1, encoded.shape[1], encoded.shape[2])\n",
    "        yhat = model.predict(encoded, verbose = 0)\n",
    "        yhat = np.argmax(yhat, axis=-1)\n",
    "        \n",
    "        out_char = ''\n",
    "        for char, index in mapping.items():\n",
    "            if index == yhat:\n",
    "                out_char = char\n",
    "                break\n",
    "        in_text += char\n",
    "    return in_text"
   ]
  },
  {
   "cell_type": "code",
   "execution_count": 74,
   "id": "582fc0de-3ba1-4d51-8f75-e346710577c8",
   "metadata": {
    "tags": []
   },
   "outputs": [
    {
     "name": "stdout",
     "output_type": "stream",
     "text": [
      "Sing a song of sixpence, A poc\n",
      "king was in his counting house\n",
      "hello worl he iieng. ahn ting \n"
     ]
    }
   ],
   "source": [
    "mapping = load(open('mapping.pkl', 'rb'))\n",
    "\n",
    "# test start of rhyme\n",
    "print(generate_seq(model, mapping, 10, 'Sing a son', 20))\n",
    "# test mid-line\n",
    "print(generate_seq(model, mapping, 10, 'king was i', 20))\n",
    "# test not in original\n",
    "print(generate_seq(model, mapping, 10, 'hello worl', 20))"
   ]
  },
  {
   "cell_type": "code",
   "execution_count": null,
   "id": "efb32d24-53f3-40fc-bd48-1e2b4fb44ae3",
   "metadata": {},
   "outputs": [],
   "source": []
  }
 ],
 "metadata": {
  "kernelspec": {
   "display_name": "Python 3",
   "language": "python",
   "name": "python3"
  },
  "language_info": {
   "codemirror_mode": {
    "name": "ipython",
    "version": 3
   },
   "file_extension": ".py",
   "mimetype": "text/x-python",
   "name": "python",
   "nbconvert_exporter": "python",
   "pygments_lexer": "ipython3",
   "version": "3.11.5"
  }
 },
 "nbformat": 4,
 "nbformat_minor": 5
}
